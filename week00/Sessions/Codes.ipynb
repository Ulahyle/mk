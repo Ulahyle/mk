{
 "cells": [
  {
   "cell_type": "code",
   "execution_count": null,
   "metadata": {},
   "outputs": [],
   "source": [
    "# print\n",
    "# prnts a string into the console.\n",
    "\n",
    "print(\"hello world!\")"
   ]
  },
  {
   "cell_type": "code",
   "execution_count": null,
   "metadata": {},
   "outputs": [],
   "source": [
    "# input\n",
    "# prints a string into the console,\n",
    "# and asks the user for a string input.\n",
    "\n",
    "input(\"Whats your name? \")"
   ]
  },
  {
   "cell_type": "code",
   "execution_count": null,
   "metadata": {},
   "outputs": [],
   "source": [
    "# comments\n",
    "# Adding a # symbol in front of text \n",
    "# lets you make comments on a line of code.\n",
    "# The cumputer will ignore your comments.\n",
    "\n",
    "#This is a comment\n",
    "print(\"this is code\")"
   ]
  },
  {
   "cell_type": "code",
   "execution_count": null,
   "metadata": {},
   "outputs": [],
   "source": [
    "# Variables\n",
    "# A variable give a name to a piece of data.\n",
    "# like a box with a lable, it tells you whay's\n",
    "# inside th box.\n",
    "\n",
    "my_name = \"Angela\"\n",
    "my_age = 12"
   ]
  },
  {
   "cell_type": "code",
   "execution_count": null,
   "metadata": {},
   "outputs": [],
   "source": [
    "# The += Operator\n",
    "# This is a convient way of saying: \" take the\n",
    "# previous value and add to it.\n",
    "\n",
    "my_age = 12\n",
    "my_age += 4\n",
    "#my_age is now 16"
   ]
  },
  {
   "cell_type": "code",
   "execution_count": null,
   "metadata": {},
   "outputs": [],
   "source": [
    "# Integers\n",
    "# Integers are whole numbers.\n",
    "\n",
    "my_number = 354"
   ]
  },
  {
   "cell_type": "code",
   "execution_count": null,
   "metadata": {},
   "outputs": [],
   "source": [
    "# Floating Point Numbers\n",
    "# Floats are numbers with decimal places.\n",
    "# When you do a calculation that results in \n",
    "# a fraction e.g. 4 / 3 the result will always be\n",
    "# a floating point number.\n",
    "\n",
    "my_float = 3.14159"
   ]
  },
  {
   "cell_type": "code",
   "execution_count": 2,
   "metadata": {},
   "outputs": [
    {
     "data": {
      "text/plain": [
       "(1+2j)"
      ]
     },
     "execution_count": 2,
     "metadata": {},
     "output_type": "execute_result"
    }
   ],
   "source": [
    "# Complex Numbers\n",
    "\n",
    "complex(1)\n",
    "complex(1, 2)"
   ]
  },
  {
   "cell_type": "code",
   "execution_count": 5,
   "metadata": {},
   "outputs": [
    {
     "data": {
      "text/plain": [
       "bool"
      ]
     },
     "execution_count": 5,
     "metadata": {},
     "output_type": "execute_result"
    }
   ],
   "source": [
    "# Boolian\n",
    "\n",
    "True\n",
    "False\n",
    "x = True\n",
    "bool(0) #False\n",
    "bool(-1) #True\n",
    "bool('one') #True\n",
    "bool('') #False"
   ]
  },
  {
   "cell_type": "code",
   "execution_count": null,
   "metadata": {},
   "outputs": [],
   "source": [
    "# String\n",
    "# A string is just a string of charachters.\n",
    "# It shoud be surrounded by double quotes.\n",
    "\n",
    "my_string = \"hello\""
   ]
  },
  {
   "cell_type": "code",
   "execution_count": null,
   "metadata": {},
   "outputs": [],
   "source": [
    "# String Concatenation\n",
    "# you can add strings to string to create\n",
    "# a new string. This is called concatenation.\n",
    "# It result in a new string.\n",
    "\n",
    "\"hello\" + \"One\"\n",
    "#becomes \"helloone\""
   ]
  },
  {
   "cell_type": "code",
   "execution_count": null,
   "metadata": {},
   "outputs": [],
   "source": [
    "# Escaoing a String\n",
    "# Because the double qoute is spetial, it\n",
    "# denotes a string, if you want to use it in\n",
    "# a string, you need to escape it with a \"\\\"\n",
    "\n",
    "speech = \"She said: \\\"hi\\\"\"\n",
    "#prints: She said: \"hi\""
   ]
  },
  {
   "cell_type": "code",
   "execution_count": null,
   "metadata": {},
   "outputs": [],
   "source": [
    "# Maths\n",
    "# Arithmetic Operators\n",
    "# You can do mathematical calculators with\n",
    "# Python as long as you know the right\n",
    "# operators.\n",
    "\n",
    "0 + 1  #Add: 1\n",
    "0 - 1  #Subtract: -1\n",
    "0 * 1  #Multiply: 0\n",
    "0 / 1  #Divide: 0\n",
    "0 ** 1 #Exponent: 0\n",
    "3 % 2  #Module: 1\n",
    "9 // 2 #Floor devision: 4"
   ]
  },
  {
   "cell_type": "code",
   "execution_count": null,
   "metadata": {},
   "outputs": [],
   "source": [
    "# The += Operator\n",
    "# This is a convenient way to modify a variable.\n",
    "# It takes the exiting value in a variable\n",
    "# and adds to it.\n",
    "# You can also use any of other\n",
    "# matemaical operators e.g. -= or +=\n",
    "\n",
    "x = 0\n",
    "x += 1\n",
    "#result is 1"
   ]
  },
  {
   "cell_type": "code",
   "execution_count": null,
   "metadata": {},
   "outputs": [],
   "source": [
    "# Checking data type\n",
    "# What is the data type of a variable\n",
    "\n",
    "n = 3.14\n",
    "type(n) #result float"
   ]
  },
  {
   "cell_type": "code",
   "execution_count": null,
   "metadata": {},
   "outputs": [],
   "source": [
    "# Converting data type\n",
    "# Convert a variable from one data type\n",
    "# to another.\n",
    "# Converting to float:\n",
    "# float()\n",
    "# Conberting to int:\n",
    "# int()\n",
    "# Converting to string:\n",
    "# str()\n",
    "\n",
    "x = 1\n",
    "new_x = float(x)\n",
    "print(new_x) #result 1.0"
   ]
  },
  {
   "cell_type": "code",
   "execution_count": null,
   "metadata": {},
   "outputs": [],
   "source": [
    "# and\n",
    "\n",
    "0 and 1 #result 0\n",
    "1 and 0 #result 0\n",
    "23 and 21 #result 21\n",
    "21 and 23 #result 23"
   ]
  },
  {
   "cell_type": "code",
   "execution_count": null,
   "metadata": {},
   "outputs": [],
   "source": [
    "# or\n",
    "\n",
    "10 or 12 #rresult 10\n",
    "12 or 10 #rresult 12\n",
    "1 or 0 #rresult 1\n",
    "0 or 1 #rresult 0"
   ]
  },
  {
   "cell_type": "code",
   "execution_count": null,
   "metadata": {},
   "outputs": [],
   "source": [
    "# not\n",
    "\n",
    "not True #result False\n",
    "not 0 #result True\n",
    "not 1 #result False\n",
    "not 11 #result False"
   ]
  },
  {
   "cell_type": "code",
   "execution_count": null,
   "metadata": {},
   "outputs": [],
   "source": [
    "# is\n",
    "\n",
    "a = 178982\n",
    "b = 178982\n",
    "a == b #result True\n",
    "a is b #result False\n",
    "\n",
    "a == 178982\n",
    "a = b\n",
    "a == b #result True\n",
    "a is b #result True"
   ]
  },
  {
   "cell_type": "code",
   "execution_count": null,
   "metadata": {},
   "outputs": [],
   "source": [
    "# in\n",
    "\n",
    "a = \"qwerty\"\n",
    "\"q\" in a #result True\n",
    "\"a\" in a #result False"
   ]
  },
  {
   "cell_type": "code",
   "execution_count": null,
   "metadata": {},
   "outputs": [],
   "source": [
    "# \\n\n",
    "\n",
    "print(\"hello \\none \")\n",
    "\n",
    "a = \"three\"\n",
    "print(\"\"\"hello\n",
    "one\n",
    "and \n",
    "two\\n\"\"\",a)"
   ]
  },
  {
   "cell_type": "code",
   "execution_count": null,
   "metadata": {},
   "outputs": [],
   "source": [
    "# Comparison opertators\n",
    "# These mathematical comparison operators\n",
    "# allow you to refine your conditional ckecks.\n",
    "\n",
    "a > b  #a is greater than b\n",
    "a < b  #a is lesser than b\n",
    "a >= b #a is greater than or equal to b\n",
    "a <= b #a is lesser than or equal to b\n",
    "a == b #a is equal to b\n",
    "a != b #a is not equal to b"
   ]
  },
  {
   "cell_type": "code",
   "execution_count": 34,
   "metadata": {},
   "outputs": [
    {
     "name": "stdout",
     "output_type": "stream",
     "text": [
      "there are 365 in a year\n"
     ]
    }
   ],
   "source": [
    "# f String\n",
    "\n",
    "# You can insert a variable into a string\n",
    "# using f-string.\n",
    "# The syntax is simple, just insert the variable\n",
    "# in-between a set of curly braces{}.\n",
    "\n",
    "days = 365\n",
    "print(f\"there are {days} in a year\") #result there are 365 in a year"
   ]
  },
  {
   "cell_type": "code",
   "execution_count": 37,
   "metadata": {},
   "outputs": [
    {
     "data": {
      "text/plain": [
       "'2'"
      ]
     },
     "execution_count": 37,
     "metadata": {},
     "output_type": "execute_result"
    }
   ],
   "source": [
    "# %s format\n",
    "\n",
    "name = \"Bob\"\n",
    "age = 25\n",
    "info = \"Name: %s, Age: %s\" % (name, age)\n",
    "print(info) #result Name: Bob, Age: 25"
   ]
  },
  {
   "cell_type": "code",
   "execution_count": null,
   "metadata": {},
   "outputs": [],
   "source": [
    "# if\n",
    "\n",
    "# This is the basic syntax to test if a condition\n",
    "# is true. If so, the indented code will be\n",
    "# executed, if not it will be skipped.\n",
    "\n",
    "x = 1\n",
    "if x > 0:\n",
    "    print(\"x is larger than 0\")"
   ]
  },
  {
   "cell_type": "code",
   "execution_count": null,
   "metadata": {},
   "outputs": [],
   "source": [
    "# else\n",
    "\n",
    "# This is a way to specify some code that will be\n",
    "# executed if a condition is false.\n",
    "\n",
    "age = 1\n",
    "if age > 0:\n",
    "    print(\"U can live!\")\n",
    "else:\n",
    "    print(\"U can not live!\")"
   ]
  },
  {
   "cell_type": "code",
   "execution_count": null,
   "metadata": {},
   "outputs": [],
   "source": [
    "# elif\n",
    "\n",
    "# In addition to the initial \"if\" statement\n",
    "# condition, you can add extra conditions to\n",
    "# test if the first condtion is false.\n",
    "# Once an elif condition is true, the rest of\n",
    "# the elif conditions are no longer checed\n",
    "# and are skipped.\n",
    "\n",
    "weather = \"sunny\"\n",
    "if weather == \"rainy\":\n",
    "    print(\"bring umbrella\")\n",
    "elif weather == \"sunny\":\n",
    "    print(\"bring sunglasses\")\n",
    "elif weather == \"snow\":\n",
    "    print(\"bring gloves\")"
   ]
  }
 ],
 "metadata": {
  "kernelspec": {
   "display_name": "Python 3",
   "language": "python",
   "name": "python3"
  },
  "language_info": {
   "codemirror_mode": {
    "name": "ipython",
    "version": 3
   },
   "file_extension": ".py",
   "mimetype": "text/x-python",
   "name": "python",
   "nbconvert_exporter": "python",
   "pygments_lexer": "ipython3",
   "version": "3.13.1"
  }
 },
 "nbformat": 4,
 "nbformat_minor": 2
}
