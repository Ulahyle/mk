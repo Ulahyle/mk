{
 "cells": [
  {
   "cell_type": "code",
   "execution_count": null,
   "metadata": {},
   "outputs": [],
   "source": [
    "Clean Codes 00"
   ]
  },
  {
   "cell_type": "code",
   "execution_count": null,
   "metadata": {},
   "outputs": [],
   "source": [
    "#bad example for a collector\n",
    "def ctl(l):\n",
    "    t = 0\n",
    "    for i in range(l):\n",
    "        t+=i\n",
    "    return t"
   ]
  },
  {
   "cell_type": "code",
   "execution_count": null,
   "metadata": {},
   "outputs": [],
   "source": [
    "#good example for a collector\n",
    "def collector(range_limit):\n",
    "    sum = 0\n",
    "    for i in range(range_limit):\n",
    "        sum += 1\n",
    "    return sum"
   ]
  },
  {
   "cell_type": "code",
   "execution_count": 1,
   "metadata": {},
   "outputs": [
    {
     "data": {
      "text/plain": [
       "3"
      ]
     },
     "execution_count": 1,
     "metadata": {},
     "output_type": "execute_result"
    }
   ],
   "source": [
    "#better example for a collector\n",
    "def collector(range_limit):\n",
    "    return sum(range(range_limit))\n",
    "\n",
    "collector(3)"
   ]
  },
  {
   "cell_type": "code",
   "execution_count": null,
   "metadata": {},
   "outputs": [],
   "source": [
    "#good example for car start\n",
    "def is_car_started(b):\n",
    "    if b is False:\n",
    "        return True\n",
    "    return False"
   ]
  },
  {
   "cell_type": "code",
   "execution_count": null,
   "metadata": {},
   "outputs": [],
   "source": [
    "#bad example for fetch and process data\n",
    "def fetch_and_process_data():\n",
    "    data = fetch_data_form_api()\n",
    "    process = process_data(data)"
   ]
  },
  {
   "cell_type": "code",
   "execution_count": null,
   "metadata": {},
   "outputs": [],
   "source": [
    "#good example for Fetch and Process Data\n",
    "def fetch_data_form_api():\n",
    "    pass\n",
    "\n",
    "def process_data():\n",
    "    pass\n",
    "\n",
    "#  short lines for each function\n",
    "#  separated jobs for each function"
   ]
  },
  {
   "cell_type": "code",
   "execution_count": 2,
   "metadata": {},
   "outputs": [
    {
     "data": {
      "text/plain": [
       "90.0"
      ]
     },
     "execution_count": 2,
     "metadata": {},
     "output_type": "execute_result"
    }
   ],
   "source": [
    "#bad example for a get Discounted Price\n",
    "def get_discounted_price(price):\n",
    "    discount_price = price - (price * 0.1)\n",
    "    return discount_price\n",
    "\n",
    "get_discounted_price(100)"
   ]
  },
  {
   "cell_type": "code",
   "execution_count": null,
   "metadata": {},
   "outputs": [],
   "source": [
    "#good example for a get Discounted Price\n",
    "def get_discounted_price(price):\n",
    "    DISCOUNT_RATE = 0.1\n",
    "    discount_price = price - (price * DISCOUNT_RATE)\n",
    "    return discount_price\n",
    "\n",
    "#  all CAP   LETTERS for constants(fixed values)"
   ]
  },
  {
   "cell_type": "code",
   "execution_count": null,
   "metadata": {},
   "outputs": [],
   "source": [
    "#bad example for a Process Data\n",
    "def process_data(data):\n",
    "    if data:\n",
    "        if 'key' in data:\n",
    "            if data['key'] == 3:\n",
    "                return True\n",
    "    return False"
   ]
  },
  {
   "cell_type": "code",
   "execution_count": null,
   "metadata": {},
   "outputs": [],
   "source": [
    "#good example for a Process Data\n",
    "def process_data(data):\n",
    "    if not data:\n",
    "        return False\n",
    "    if not 'key' in data:\n",
    "        return False\n",
    "    return data['key'] == 3"
   ]
  },
  {
   "cell_type": "code",
   "execution_count": null,
   "metadata": {},
   "outputs": [],
   "source": [
    "#better example for a Process Data\n",
    "def process_data(data):\n",
    "    if not data or not 'key' in data:\n",
    "        return False\n",
    "    return data['key'] == 3\n",
    "\n",
    "#  do NOT deep nesting (Maximum 2 or 3)"
   ]
  },
  {
   "cell_type": "code",
   "execution_count": null,
   "metadata": {},
   "outputs": [],
   "source": [
    "#  DRY (do NOT repeat yourself)"
   ]
  },
  {
   "cell_type": "code",
   "execution_count": null,
   "metadata": {},
   "outputs": [],
   "source": [
    "#solid\n",
    "\n",
    "# 1) Single-responsibility principle (SRP)\n",
    "# 2) Open–closed principle (OCP)\n",
    "# 3) Liskov substitution principle (LSP)\n",
    "# 4) Interface segregation principle (ISP)\n",
    "# 5) Dependency inversion principle (DIP)"
   ]
  },
  {
   "cell_type": "code",
   "execution_count": null,
   "metadata": {},
   "outputs": [],
   "source": [
    "#bad example for a User Manager in terms of SRP\n",
    "class UserManager:\n",
    "    def save_user(self, user):\n",
    "        pass\n",
    "    def send_email(self, text):\n",
    "        pass\n",
    "    def generate_report(self, user):\n",
    "        pass"
   ]
  },
  {
   "cell_type": "code",
   "execution_count": null,
   "metadata": {},
   "outputs": [],
   "source": [
    "#good example for a User Manager in terms of SRP\n",
    "class UserRepository:\n",
    "    def save_user(self, user):\n",
    "        pass\n",
    "\n",
    "class EmailService:\n",
    "    def send_email(self, text):\n",
    "        pass\n",
    "\n",
    "class ReportGenerator:\n",
    "    def generate_report(self, user):\n",
    "        pass"
   ]
  },
  {
   "cell_type": "code",
   "execution_count": null,
   "metadata": {},
   "outputs": [],
   "source": [
    "#bad example for a Invoice in terms of OCP\n",
    "class Invoice:\n",
    "    def __init__(self, amount):\n",
    "        self.amount = amount\n",
    "    def calculate_tax(self):\n",
    "        return self.amount * 0.1\n",
    "    \n",
    "Invoice(100).calculate_tax()"
   ]
  },
  {
   "cell_type": "code",
   "execution_count": null,
   "metadata": {},
   "outputs": [],
   "source": [
    "#bad example for a Invoice in terms of OCP\n",
    "class Invoice:\n",
    "    def __init__(self, amount):\n",
    "        self.amount = amount\n",
    "    def calculate_tax(self, country):\n",
    "        if country == 'US':\n",
    "            return self.amount * 0.1\n",
    "        if country == 'UK':\n",
    "            return self.amount * 0.2"
   ]
  },
  {
   "cell_type": "code",
   "execution_count": null,
   "metadata": {},
   "outputs": [],
   "source": [
    "#good example for a Invoice in terms of OCP\n",
    "class TaxCalculator:\n",
    "    def calculate_tax(self):\n",
    "        pass\n",
    "\n",
    "class USTaxCalculator(TaxCalculator):\n",
    "    def clalculat_tax(self):\n",
    "        self.amount * 0.1\n",
    "\n",
    "class UKTaxCalculator(TaxCalculator):\n",
    "    def clalculat_tax(self):\n",
    "        self.amount * 0.2"
   ]
  },
  {
   "cell_type": "code",
   "execution_count": null,
   "metadata": {},
   "outputs": [],
   "source": [
    "#bad example for a Bird in terms of LSP\n",
    "class Bird:\n",
    "    def fly(self):\n",
    "        pass\n",
    "\n",
    "class Sparrow(Bird):\n",
    "    def fly(self):\n",
    "        print('flying')\n",
    "\n",
    "class Penguin(Bird):\n",
    "    def fly(self):\n",
    "        raise NotImplementedError('penguin can not fly')\n",
    "    \n",
    "Jack = Sparrow()\n",
    "Jack.fly()"
   ]
  },
  {
   "cell_type": "code",
   "execution_count": null,
   "metadata": {},
   "outputs": [],
   "source": [
    "#good example for a Bird in terms of LSP\n",
    "class Bird:\n",
    "    pass\n",
    "\n",
    "class FlyBird(Bird):\n",
    "    def fly(self):\n",
    "        pass\n",
    "\n",
    "class SwimBird(Bird):\n",
    "    def fly(self):\n",
    "        pass\n",
    "\n",
    "class Sparrow(FlyBird):\n",
    "    def fly(self):\n",
    "        print('flying')\n",
    "\n",
    "class Penguin(SwimBird):\n",
    "    def walk(self):\n",
    "        print('swimming')\n",
    "\n",
    "class Ostrich(Bird):\n",
    "    def walk(self):\n",
    "        print('walking')"
   ]
  },
  {
   "cell_type": "code",
   "execution_count": null,
   "metadata": {},
   "outputs": [],
   "source": [
    "#bad example for a Multi Function Printer in terms of ISP\n",
    "class MultiFunctionPrinter:\n",
    "    def print(self):\n",
    "        pass\n",
    "    def scanner(self):\n",
    "        pass\n",
    "    def tax(self):\n",
    "        pass"
   ]
  },
  {
   "cell_type": "code",
   "execution_count": null,
   "metadata": {},
   "outputs": [],
   "source": [
    "#good example for a Multi Function Printer in terms of ISP\n",
    "class Printer:\n",
    "    def print(self):\n",
    "        pass\n",
    "\n",
    "class Scanner:\n",
    "    def scan(self):\n",
    "        pass\n",
    "\n",
    "class Taxor:\n",
    "    def tax(self):\n",
    "        pass"
   ]
  },
  {
   "cell_type": "code",
   "execution_count": null,
   "metadata": {},
   "outputs": [],
   "source": [
    "#bad example for a User Repository in terms of DIP\n",
    "class Database:\n",
    "    def save(self, data):\n",
    "        pass\n",
    "\n",
    "class UserRepository:\n",
    "    def __init__(self):\n",
    "        self.db = Database()"
   ]
  },
  {
   "cell_type": "code",
   "execution_count": null,
   "metadata": {},
   "outputs": [],
   "source": [
    "#good example for a User Repository in terms of DIP\n",
    "class Database:\n",
    "    def save(self, data):\n",
    "        pass\n",
    "\n",
    "class MySQLDatabase(Database):\n",
    "    def save(self, data):\n",
    "        pass\n",
    "\n",
    "class UserRepository:\n",
    "    def __init__(self, db:Database):\n",
    "        self.db = db"
   ]
  },
  {
   "cell_type": "code",
   "execution_count": null,
   "metadata": {},
   "outputs": [],
   "source": [
    "#bad example for a Notification in terms of DIP\n",
    "class EmailNotification:\n",
    "    def send(self):\n",
    "        pass\n",
    "\n",
    "class ReportSender:\n",
    "    def __init__(self):\n",
    "        send_service = EmailNotification"
   ]
  },
  {
   "cell_type": "code",
   "execution_count": null,
   "metadata": {},
   "outputs": [],
   "source": [
    "#good example for a Notification in terms of DIP\n",
    "class BaseNotif:\n",
    "    def send(self):\n",
    "        pass\n",
    "\n",
    "class EmailNotification(BaseNotif):\n",
    "    def send(self):\n",
    "        pass\n",
    "\n",
    "class SMS(BaseNotif):\n",
    "    def send(self):\n",
    "        pass\n",
    "\n",
    "class ReportSender:\n",
    "    def __init__(self):\n",
    "        send_service = EmailNotification\n",
    "\n"
   ]
  },
  {
   "cell_type": "code",
   "execution_count": null,
   "metadata": {},
   "outputs": [],
   "source": []
  },
  {
   "cell_type": "code",
   "execution_count": null,
   "metadata": {},
   "outputs": [],
   "source": [
    "def process_data(data):\n",
    "    try:\n",
    "        return data['key'] == 3\n",
    "    except Exception as exe:\n",
    "        print('key keyl not found in data, please add key')\n",
    "\n",
    "# Clear error"
   ]
  },
  {
   "cell_type": "code",
   "execution_count": null,
   "metadata": {},
   "outputs": [],
   "source": [
    "import math as python_math_module"
   ]
  },
  {
   "cell_type": "code",
   "execution_count": null,
   "metadata": {},
   "outputs": [],
   "source": []
  },
  {
   "cell_type": "code",
   "execution_count": null,
   "metadata": {},
   "outputs": [],
   "source": [
    "x1 = 1\n",
    "x2 = 2\n",
    "\n",
    "total_x1 = x1 = (x1 * 0.1)\n",
    "total_x2 = x2 = (x2 * 0.1)\n",
    "\n",
    "# dont try yourself(DRY), instead use a function:\n",
    "TAX_RATE = 0.1\n",
    "\n",
    "def calculate_total_price(price):\n",
    "    return price + (price * TAX_RATE)\n",
    "\n",
    "calculate_total_price(1)"
   ]
  },
  {
   "cell_type": "code",
   "execution_count": null,
   "metadata": {},
   "outputs": [],
   "source": [
    "# Make virtual envierment for each project\n",
    "python —m venv .venv\n",
    "# python: call python\n",
    "# -m: run a library as a script\n",
    "# venv: the called library\n",
    "# dot: make the next name(file or folder) hidden\n",
    "# venv: a folder which contains \n",
    "# > python use venv library to make a venv folder "
   ]
  }
 ],
 "metadata": {
  "kernelspec": {
   "display_name": "Python 3",
   "language": "python",
   "name": "python3"
  },
  "language_info": {
   "codemirror_mode": {
    "name": "ipython",
    "version": 3
   },
   "file_extension": ".py",
   "mimetype": "text/x-python",
   "name": "python",
   "nbconvert_exporter": "python",
   "pygments_lexer": "ipython3",
   "version": "3.13.1"
  }
 },
 "nbformat": 4,
 "nbformat_minor": 2
}
