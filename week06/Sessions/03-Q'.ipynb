{
 "cells": [
  {
   "cell_type": "code",
   "execution_count": null,
   "metadata": {},
   "outputs": [],
   "source": [
    "# Make this code reliable:\n",
    "class M:\n",
    "# This method greets the user based on whether their name is provided.\n",
    "    def do(self, u):\n",
    "        if \"name\" in u:\n",
    "            print(f\"Welcome {u['name']}!\")\n",
    "        else:\n",
    "            print(\"Welcome Guest!\")\n",
    "# This method saves the user's data (name and age) to a file named \"data.txt\".\n",
    "    def save(self, u):\n",
    "        with open(\"data.txt\", \"a\") as f:\n",
    "            f.write(f\"{u['name']}, {u['age']}\\n\")\n",
    "\n",
    "# This method calculates a discounted price given the original price (p)\n",
    "# and a discount rate (d).\n",
    "    def calc(self, p, d):\n",
    "        return p - (p * d)\n",
    "\n",
    "# Example Usage\n",
    "u = {\"name\": \"Alice\", \"age\": 25}  # Example user dictionary containing name and age.\n",
    "\n",
    "m = M()  # Create an instance of the class.\n",
    "\n",
    "m.do(u)  # Greet the user using the do() method.\n",
    "m.save(u)  # Save the user's data to the file \"data.txt\".\n",
    "print(f\"Discounted price: {m.calc(100, 0.1)}\")  # Calculate and display a discounted price."
   ]
  },
  {
   "cell_type": "code",
   "execution_count": null,
   "metadata": {},
   "outputs": [],
   "source": [
    "class UserGreeter:\n",
    "    def greet_user(self, user_data):\n",
    "        if \"name\" in user_data:\n",
    "            print(f\"wellcome {user_data['name']}!\")\n",
    "        else:\n",
    "            print(\"Welcome Gustes!\")\n",
    "    \n",
    "\n",
    "class CalculateDiscount:        \n",
    "    def calculate(self, first_price, discounnt_rate):\n",
    "        return first_price - (first_price * discounnt_rate)\n",
    "\n",
    "\n",
    "class UserSaver:\n",
    "    def __init__(self, filename = \"data.txt\"):\n",
    "        self.filename = filename\n",
    "    def save_user(self, user_data):\n",
    "        with open(self.filename, 'a') as f:\n",
    "            f.write(f\"{user_data.get('name')}, {user_data.get('age')}\\n\")"
   ]
  }
 ],
 "metadata": {
  "kernelspec": {
   "display_name": "Python 3",
   "language": "python",
   "name": "python3"
  },
  "language_info": {
   "name": "python",
   "version": "3.13.1"
  }
 },
 "nbformat": 4,
 "nbformat_minor": 2
}
