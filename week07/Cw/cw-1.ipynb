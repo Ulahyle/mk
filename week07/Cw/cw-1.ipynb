{
 "cells": [
  {
   "cell_type": "code",
   "execution_count": 13,
   "metadata": {},
   "outputs": [
    {
     "name": "stdout",
     "output_type": "stream",
     "text": [
      "two\n",
      "three\n",
      "one\n",
      "{'two': 2, 'three': 3, 'one': 1}\n"
     ]
    }
   ],
   "source": [
    "from collections import OrderedDict\n",
    "\n",
    "numbers = OrderedDict()\n",
    "\n",
    "numbers[\"two\"] = 2\n",
    "numbers[\"three\"] = 3\n",
    "numbers[\"one\"] = 1\n",
    "\n",
    "for item in numbers:\n",
    "    print(item)\n",
    "print(numbers)\n",
    "# OrderedDict([('one', 1), ('two', 2), ('three', 3)])"
   ]
  },
  {
   "cell_type": "code",
   "execution_count": 37,
   "metadata": {},
   "outputs": [
    {
     "data": {
      "text/plain": [
       "OrderedDict([('b', 2), ('c', 4), ('d', 1), ('a', 3)])"
      ]
     },
     "execution_count": 37,
     "metadata": {},
     "output_type": "execute_result"
    }
   ],
   "source": [
    "# numbers = OrderedDict([(\"one\", 1), (\"two\", 2), (\"three\", 3)])\n",
    "# numbers\n",
    "# OrderedDict([('one', 1), ('two', 2), ('three', 3)])\n",
    "\n",
    "letters = OrderedDict({(\"d\", 1), (\"b\", 2), (\"a\", 3), (\"c\", 4)})\n",
    "letters\n",
    "# OrderedDict([('c', 3), ('a', 1), ('b', 2)])"
   ]
  },
  {
   "cell_type": "code",
   "execution_count": 42,
   "metadata": {},
   "outputs": [
    {
     "name": "stdout",
     "output_type": "stream",
     "text": [
      "12\n"
     ]
    }
   ],
   "source": [
    "one = int(input(\"write a number\"))\n",
    "print(one)"
   ]
  },
  {
   "cell_type": "code",
   "execution_count": 61,
   "metadata": {},
   "outputs": [
    {
     "name": "stdout",
     "output_type": "stream",
     "text": [
      "OrderedDict({'one': 1, 'two': 2, 'three': 3})\n",
      "OrderedDict({'one': 1, 'two': 2, 'three': 3, 'four': 4, 'five': 5})\n"
     ]
    }
   ],
   "source": [
    "from collections import OrderedDict\n",
    "\n",
    "class StockPrice:\n",
    "    def __init__(self, stock_price):\n",
    "        self.stock_price = OrderedDict(stock_price)\n",
    "    \n",
    "    def real_time_stock_price_updates(self, new_price):\n",
    "        self.new_price = new_price\n",
    "        self.stock_price.update(self.new_price)\n",
    "\n",
    "    def highest_price(self):\n",
    "        pass\n",
    "\n",
    "    def lowest_price(self):\n",
    "        pass\n",
    "\n",
    "\n",
    "apple_price = StockPrice(dict([('one', 1), ('two', 2), ('three', 3)]))\n",
    "print(apple_price.stock_price)\n",
    "apple_price.real_time_stock_price_updates({\"four\":4, \"five\": 5})\n",
    "print(apple_price.stock_price)\n",
    "\n",
    "nvidia_price = StockPrice(dict([('one', 1), ('two', 2), ('three', 3)]))"
   ]
  },
  {
   "cell_type": "code",
   "execution_count": 74,
   "metadata": {},
   "outputs": [
    {
     "name": "stdout",
     "output_type": "stream",
     "text": [
      "OrderedDict({'one': 1, 'two': 2, 'three': 3, 'four': 4, 'five': 5})\n",
      "5\n",
      "1\n"
     ]
    }
   ],
   "source": [
    "from collections import OrderedDict\n",
    "\n",
    "class StockPrice:\n",
    "    def __init__(self, stock_price):\n",
    "        self.stock_price = OrderedDict(stock_price)\n",
    "    \n",
    "    def real_time_stock_price_updates(self, new_price):\n",
    "        self.new_price = new_price\n",
    "        self.stock_price.update(self.new_price)\n",
    "\n",
    "    def highest_price(self):\n",
    "        # for key, value in self.stock_price.items():\n",
    "        #     print(key)\n",
    "\n",
    "        return max(self.stock_price.values())\n",
    "        \n",
    "    def lowest_price(self):\n",
    "        return min(self.stock_price.values())\n",
    "\n",
    "apple_price = StockPrice(dict([('one', 1), ('two', 2), ('three', 3)]))\n",
    "\n",
    "apple_price.real_time_stock_price_updates({\"four\":4, \"five\": 5})\n",
    "\n",
    "print(apple_price.stock_price)\n",
    "\n",
    "print(apple_price.highest_price())\n",
    "print(apple_price.lowest_price())"
   ]
  },
  {
   "cell_type": "code",
   "execution_count": null,
   "metadata": {},
   "outputs": [],
   "source": [
    "# 6.Implement a Real-Time Stock Price Tracker\n",
    "\n",
    "from collections import OrderedDict\n",
    "\n",
    "class StockPrice:\n",
    "    def __init__(self, stock_price):\n",
    "        self.stock_price = OrderedDict(stock_price)\n",
    "    \n",
    "    def real_time_stock_price_updates(self, new_price):\n",
    "        self.new_price = new_price\n",
    "        self.stock_price.update(self.new_price)\n",
    "\n",
    "    def highest_price(self):\n",
    "        # for key, value in self.stock_price.items():\n",
    "        #     print(key)\n",
    "\n",
    "        return max(self.stock_price.values())\n",
    "        \n",
    "    def lowest_price(self):\n",
    "        return min(self.stock_price.values())\n",
    "\n",
    "\n",
    "apple_price = StockPrice(dict([('one', 1), ('two', 2), ('three', 3)]))\n",
    "apple_price.real_time_stock_price_updates({\"four\":4, \"five\": 5})\n",
    "print(apple_price.stock_price)\n",
    "print(apple_price.highest_price())\n",
    "print(apple_price.lowest_price())"
   ]
  },
  {
   "cell_type": "code",
   "execution_count": 259,
   "metadata": {},
   "outputs": [
    {
     "name": "stdout",
     "output_type": "stream",
     "text": [
      "hi\n",
      "hello\n"
     ]
    }
   ],
   "source": [
    "# 6.5.Design a Logger Rate Limiter\n",
    "import time\n",
    "\n",
    "messages = dict()\n",
    "\n",
    "def logger_rate_limiter(message):\n",
    "\n",
    "    if message in messages.keys() and (time.time() - messages[message]) >= 10:\n",
    "        messages.update({message: time.time()})\n",
    "        print(message)\n",
    "\n",
    "    if message not in messages.keys():\n",
    "        messages.update({message: time.time()})\n",
    "        print(message)\n",
    "\n",
    "\n",
    "\n",
    "logger_rate_limiter('hello')\n",
    "time.sleep(11)\n",
    "logger_rate_limiter('hello')"
   ]
  },
  {
   "cell_type": "code",
   "execution_count": null,
   "metadata": {},
   "outputs": [],
   "source": [
    "# 7.Design a Simple Cache (FIFO Cache)\n",
    "\n",
    "from collections import OrderedDict, deque\n",
    "\n",
    "class FIFO:\n",
    "    def __init__(self, n):\n",
    "        \n",
    "        self.n = n\n",
    "        self.space = deque(maxlen = self.n)\n",
    "    \n",
    "    def get(self, key):\n",
    "        self.space.append(key)\n",
    "\n",
    "\n",
    "obj1 = FIFO(5)\n",
    "obj1.get('box1')\n",
    "obj1.get(\"box2\")\n",
    "obj1.get(\"box3\")\n",
    "obj1.get(\"box4\")\n",
    "obj1.get(\"box5\")\n",
    "obj1.get(\"box6\")\n",
    "print(obj1.space)"
   ]
  }
 ],
 "metadata": {
  "kernelspec": {
   "display_name": "Python 3",
   "language": "python",
   "name": "python3"
  },
  "language_info": {
   "codemirror_mode": {
    "name": "ipython",
    "version": 3
   },
   "file_extension": ".py",
   "mimetype": "text/x-python",
   "name": "python",
   "nbconvert_exporter": "python",
   "pygments_lexer": "ipython3",
   "version": "3.13.1"
  }
 },
 "nbformat": 4,
 "nbformat_minor": 2
}
