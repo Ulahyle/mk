{
 "cells": [
  {
   "cell_type": "code",
   "execution_count": null,
   "metadata": {},
   "outputs": [],
   "source": [
    "# q1"
   ]
  },
  {
   "cell_type": "code",
   "execution_count": 3,
   "metadata": {},
   "outputs": [],
   "source": [
    "# q2\n",
    "class Number:\n",
    "    def __init__(self, number):\n",
    "        number_type = type(number)\n",
    "        if number_type is int:\n",
    "            self.number = int(number)\n",
    "        if number_type is float:\n",
    "            self.number = float(number)"
   ]
  },
  {
   "cell_type": "code",
   "execution_count": null,
   "metadata": {},
   "outputs": [],
   "source": [
    "class Number:\n",
    "    def __init__(self, value):\n",
    "        value_type = type(value)\n",
    "        if value_type is int:\n",
    "            self.value = int(value)\n",
    "        elif value_type is float:\n",
    "            self.value = float(value)\n",
    "        else:\n",
    "            raise TypeError(\"Value must be an int or float\")\n",
    "\n",
    "    def __add__(self, other):\n",
    "        if isinstance(other, Number):\n",
    "            return Number(self.value + other.value)\n",
    "        else:\n",
    "            return Number(self.value + other)\n",
    "\n",
    "    def __sub__(self, other):\n",
    "        if isinstance(other, Number):\n",
    "            return Number(self.value - other.value)\n",
    "        else:\n",
    "            return Number(self.value - other)\n",
    "\n",
    "    def __mul__(self, other):\n",
    "        if isinstance(other, Number):\n",
    "            return Number(self.value * other.value)\n",
    "        else:\n",
    "            return Number(self.value * other)\n",
    "\n",
    "    def __truediv__(self, other):\n",
    "        if isinstance(other, Number):\n",
    "            return Number(self.value / other.value)\n",
    "        else:\n",
    "            return Number(self.value / other)\n",
    "\n",
    "    def __eq__(self, other):\n",
    "        if isinstance(other, Number):\n",
    "            return self.value == other.value\n",
    "        else:\n",
    "            return self.value == other\n",
    "\n",
    "    def __ne__(self, other):\n",
    "        if isinstance(other, Number):\n",
    "            return self.value != other.value\n",
    "        else:\n",
    "            return self.value != other\n",
    "\n",
    "    def __lt__(self, other):\n",
    "        if isinstance(other, Number):\n",
    "            return self.value < other.value\n",
    "        else:\n",
    "            return self.value < other\n",
    "\n",
    "    def __le__(self, other):\n",
    "        if isinstance(other, Number):\n",
    "            return self.value <= other.value\n",
    "        else:\n",
    "            return self.value <= other\n",
    "\n",
    "    def __gt__(self, other):\n",
    "        if isinstance(other, Number):\n",
    "            return self.value > other.value\n",
    "        else:\n",
    "            return self.value > other\n",
    "\n",
    "    def __ge__(self, other):\n",
    "        if isinstance(other, Number):\n",
    "            return self.value >= other.value\n",
    "        else:\n",
    "            return self.value >= other\n",
    "\n",
    "num1 = Number(10)\n",
    "num2 = Number(3.5)\n",
    "\n",
    "print(num1 + num2)\n",
    "print(num1 - num2)\n",
    "print(num1 * num2)\n",
    "print(num1 / num2)\n",
    "\n",
    "print(num1 == num2)\n",
    "print(num1 != num2)\n",
    "print(num1 < num2)\n",
    "print(num1 > num2)\n",
    "print(num1 <= num2)\n",
    "print(num1 >= num2)\n",
    "\n",
    "print(int(num1))\n",
    "print(float(num2))"
   ]
  },
  {
   "cell_type": "code",
   "execution_count": 5,
   "metadata": {},
   "outputs": [
    {
     "name": "stdout",
     "output_type": "stream",
     "text": [
      "1\n"
     ]
    }
   ],
   "source": [
    "class People():\n",
    "    def __init__(self, name):\n",
    "        self.name = name\n",
    "\n",
    "    def namePrint(self):\n",
    "        print(self.name)\n",
    "\n",
    "\n",
    "p1 = People(\"1\")\n",
    "p2 = People(\"2\")\n",
    "\n",
    "p1.namePrint()"
   ]
  },
  {
   "cell_type": "code",
   "execution_count": null,
   "metadata": {},
   "outputs": [],
   "source": []
  }
 ],
 "metadata": {
  "kernelspec": {
   "display_name": "Python 3",
   "language": "python",
   "name": "python3"
  },
  "language_info": {
   "codemirror_mode": {
    "name": "ipython",
    "version": 3
   },
   "file_extension": ".py",
   "mimetype": "text/x-python",
   "name": "python",
   "nbconvert_exporter": "python",
   "pygments_lexer": "ipython3",
   "version": "3.13.1"
  }
 },
 "nbformat": 4,
 "nbformat_minor": 2
}
